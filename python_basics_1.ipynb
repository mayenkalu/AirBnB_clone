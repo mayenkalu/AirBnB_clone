{
  "nbformat": 4,
  "nbformat_minor": 0,
  "metadata": {
    "colab": {
      "provenance": [],
      "authorship_tag": "ABX9TyOZ9vwD6oV5zgZ6BiQ4zvYB",
      "include_colab_link": true
    },
    "kernelspec": {
      "name": "python3",
      "display_name": "Python 3"
    },
    "language_info": {
      "name": "python"
    }
  },
  "cells": [
    {
      "cell_type": "markdown",
      "metadata": {
        "id": "view-in-github",
        "colab_type": "text"
      },
      "source": [
        "<a href=\"https://colab.research.google.com/github/mayenkalu/AirBnB_clone/blob/master/python_basics_1.ipynb\" target=\"_parent\"><img src=\"https://colab.research.google.com/assets/colab-badge.svg\" alt=\"Open In Colab\"/></a>"
      ]
    },
    {
      "cell_type": "code",
      "execution_count": 2,
      "metadata": {
        "colab": {
          "base_uri": "https://localhost:8080/"
        },
        "id": "0u4CnVl_qUKE",
        "outputId": "ee59e53c-c949-4721-aecc-f8889884cbcd"
      },
      "outputs": [
        {
          "output_type": "stream",
          "name": "stdout",
          "text": [
            "i love coding\n"
          ]
        }
      ],
      "source": [
        "print('i ' + 'love ' + 'coding')"
      ]
    },
    {
      "cell_type": "code",
      "source": [
        "first_name = 'Mayen'\n",
        "last_name = 'Kalu'\n",
        "full_name = first_name + \" \" + last_name\n",
        "print (full_name)"
      ],
      "metadata": {
        "colab": {
          "base_uri": "https://localhost:8080/"
        },
        "id": "Wd7I-SQ7sRPu",
        "outputId": "980559d6-85ee-40c9-ae11-75bcba296a6a"
      },
      "execution_count": 4,
      "outputs": [
        {
          "output_type": "stream",
          "name": "stdout",
          "text": [
            "Mayen Kalu\n"
          ]
        }
      ]
    },
    {
      "cell_type": "code",
      "source": [
        "print('My name is {}'.format(first_name))"
      ],
      "metadata": {
        "colab": {
          "base_uri": "https://localhost:8080/"
        },
        "id": "WwRySR5kskH_",
        "outputId": "2a59743b-55a0-4d91-a159-0db429b9e1f7"
      },
      "execution_count": 5,
      "outputs": [
        {
          "output_type": "stream",
          "name": "stdout",
          "text": [
            "My name is Mayen\n"
          ]
        }
      ]
    },
    {
      "cell_type": "code",
      "source": [
        "print('Hello {}, you are +{} today'.format(first_name, 1))"
      ],
      "metadata": {
        "colab": {
          "base_uri": "https://localhost:8080/"
        },
        "id": "tNiW4U27vt9q",
        "outputId": "f9a44bba-9e6d-4788-f2d3-7310cbab6af8"
      },
      "execution_count": 6,
      "outputs": [
        {
          "output_type": "stream",
          "name": "stdout",
          "text": [
            "Hello Mayen, you are +1 today\n"
          ]
        }
      ]
    },
    {
      "cell_type": "code",
      "source": [
        "print(f\"Hello {first_name}!\")"
      ],
      "metadata": {
        "colab": {
          "base_uri": "https://localhost:8080/"
        },
        "id": "iGSnPBTewOPJ",
        "outputId": "84cf8d11-a698-49ee-99e9-062139a20c38"
      },
      "execution_count": 7,
      "outputs": [
        {
          "output_type": "stream",
          "name": "stdout",
          "text": [
            "Hello Mayen!\n"
          ]
        }
      ]
    },
    {
      "cell_type": "code",
      "source": [
        "word=\"animal\"\n",
        "print(word)\n",
        "print(word[0])\n",
        "print(word[1])\n",
        "print(word[2])\n",
        "print(word[0:3])"
      ],
      "metadata": {
        "colab": {
          "base_uri": "https://localhost:8080/"
        },
        "id": "gzsTRE8zwQFv",
        "outputId": "21b62fdc-5f31-411a-9440-e0ba57926ea7"
      },
      "execution_count": 13,
      "outputs": [
        {
          "output_type": "stream",
          "name": "stdout",
          "text": [
            "animal\n",
            "a\n",
            "n\n",
            "i\n",
            "ani\n"
          ]
        }
      ]
    },
    {
      "cell_type": "code",
      "source": [
        "spouse_name = \"chesachi\"\n",
        "print(spouse_name.title())"
      ],
      "metadata": {
        "colab": {
          "base_uri": "https://localhost:8080/"
        },
        "id": "3XIGNAF5z0CV",
        "outputId": "ade74840-bc25-4995-cd90-66b91242c189"
      },
      "execution_count": 14,
      "outputs": [
        {
          "output_type": "stream",
          "name": "stdout",
          "text": [
            "Chesachi\n"
          ]
        }
      ]
    },
    {
      "cell_type": "code",
      "source": [
        "print(\"lOve anD ligHt\".upper())\n",
        "print(\"lOve anD ligHt\".lower())"
      ],
      "metadata": {
        "colab": {
          "base_uri": "https://localhost:8080/"
        },
        "id": "qmLsoP8l0E1H",
        "outputId": "af53a167-0e62-4694-e483-1843b70b8671"
      },
      "execution_count": 16,
      "outputs": [
        {
          "output_type": "stream",
          "name": "stdout",
          "text": [
            "LOVE AND LIGHT\n",
            "love and light\n"
          ]
        }
      ]
    },
    {
      "cell_type": "code",
      "source": [
        "greeting = \"Hello there!\"\n",
        "print(greeting.replace('!','.'))"
      ],
      "metadata": {
        "colab": {
          "base_uri": "https://localhost:8080/"
        },
        "id": "reAG1CkQ0VGL",
        "outputId": "11f7bf4d-14fc-4cf9-f1f6-ee6aa213d57b"
      },
      "execution_count": 17,
      "outputs": [
        {
          "output_type": "stream",
          "name": "stdout",
          "text": [
            "Hello there.\n"
          ]
        }
      ]
    },
    {
      "cell_type": "code",
      "source": [
        "sentence = \"welcome to hamoye Extenship\"\n",
        "print(sentence.find('ship'))"
      ],
      "metadata": {
        "colab": {
          "base_uri": "https://localhost:8080/"
        },
        "id": "t8C1e1bZ7apl",
        "outputId": "22fd7cd1-bc15-4fae-e7e0-6172661e9359"
      },
      "execution_count": 18,
      "outputs": [
        {
          "output_type": "stream",
          "name": "stdout",
          "text": [
            "23\n"
          ]
        }
      ]
    },
    {
      "cell_type": "code",
      "source": [
        "x = 4\n",
        "y = 10\n",
        "if x > y:\n",
        "  print('x is greater than y')\n",
        "else:\n",
        "  print('y is greater than x')"
      ],
      "metadata": {
        "colab": {
          "base_uri": "https://localhost:8080/"
        },
        "id": "TezpWcRN7_2D",
        "outputId": "d196c172-51b3-4a86-aedc-3635af5338cf"
      },
      "execution_count": 23,
      "outputs": [
        {
          "output_type": "stream",
          "name": "stdout",
          "text": [
            "y is greater than x\n"
          ]
        }
      ]
    },
    {
      "cell_type": "code",
      "source": [
        "x = 1\n",
        "y = 4\n",
        "if x > y:\n",
        "  print('x is greater than y')\n",
        "elif x==y:\n",
        "  print('x is equal to y')\n",
        "else:\n",
        "  print('y is greater than x')"
      ],
      "metadata": {
        "colab": {
          "base_uri": "https://localhost:8080/"
        },
        "id": "Q9ir7s1m84MG",
        "outputId": "eaf1f449-57e2-44ea-acdf-01c7916d9905"
      },
      "execution_count": 24,
      "outputs": [
        {
          "output_type": "stream",
          "name": "stdout",
          "text": [
            "y is greater than x\n"
          ]
        }
      ]
    },
    {
      "cell_type": "code",
      "source": [
        "Names = [\"Chesachi\", \"Mayen\", \"Kendrick\"]\n",
        "print(Names[0])\n",
        "print(Names[2])"
      ],
      "metadata": {
        "colab": {
          "base_uri": "https://localhost:8080/"
        },
        "id": "nleu8H859Wk1",
        "outputId": "149afe28-0814-4020-e2fc-88214ee2c849"
      },
      "execution_count": 26,
      "outputs": [
        {
          "output_type": "stream",
          "name": "stdout",
          "text": [
            "Chesachi\n",
            "Kendrick\n"
          ]
        }
      ]
    },
    {
      "cell_type": "code",
      "source": [
        "list1 = [3, 2.5, True, \"Guess\"]\n",
        "print(list1)\n",
        "print(list1[2])"
      ],
      "metadata": {
        "colab": {
          "base_uri": "https://localhost:8080/"
        },
        "id": "d88QWsiC9vrl",
        "outputId": "0aca1c24-c565-4e94-af6f-0e21285bdfdb"
      },
      "execution_count": 27,
      "outputs": [
        {
          "output_type": "stream",
          "name": "stdout",
          "text": [
            "[3, 2.5, True, 'Guess']\n",
            "True\n"
          ]
        }
      ]
    },
    {
      "cell_type": "code",
      "source": [
        "list3 = ['cat', 'Dog', ['fish', 'crocodile'], 700]\n",
        "print(list3[1])\n",
        "list2 = print(list3[2])"
      ],
      "metadata": {
        "colab": {
          "base_uri": "https://localhost:8080/"
        },
        "id": "uEhQ8O20-ApQ",
        "outputId": "d2bcebbf-e96e-43a5-e76a-2ccbcdc30cac"
      },
      "execution_count": 38,
      "outputs": [
        {
          "output_type": "stream",
          "name": "stdout",
          "text": [
            "Dog\n",
            "['fish', 'crocodile']\n"
          ]
        }
      ]
    },
    {
      "cell_type": "code",
      "source": [
        "student1 = [\"Mayen\", 27, \"Biological Sciences\"]\n",
        "print(student1)\n",
        "student1[1] = 29\n",
        "print(student1)"
      ],
      "metadata": {
        "colab": {
          "base_uri": "https://localhost:8080/"
        },
        "id": "mGErdiscAKNY",
        "outputId": "0111b23d-df76-4a34-8dd7-49bd92ea65a8"
      },
      "execution_count": 40,
      "outputs": [
        {
          "output_type": "stream",
          "name": "stdout",
          "text": [
            "['Mayen', 27, 'Biological Sciences']\n",
            "['Mayen', 29, 'Biological Sciences']\n"
          ]
        }
      ]
    }
  ]
}